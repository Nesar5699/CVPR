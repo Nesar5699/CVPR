{
  "nbformat": 4,
  "nbformat_minor": 0,
  "metadata": {
    "colab": {
      "provenance": []
    },
    "kernelspec": {
      "name": "python3",
      "display_name": "Python 3"
    },
    "language_info": {
      "name": "python"
    }
  },
  "cells": [
    {
      "cell_type": "code",
      "execution_count": 1,
      "metadata": {
        "id": "I1dBLOkZ1lws"
      },
      "outputs": [],
      "source": [
        "import numpy as np\n",
        "import matplotlib.pyplot as plt\n",
        "\n",
        "np.random.seed(0)\n",
        "\n",
        "X = np.array([ [0,0], [0,1], [1,0], [1,1] ])\n",
        "Y = np.array([ [0], [1], [1], [0] ])\n",
        ""
      ]
    },
    {
      "cell_type": "code",
      "source": [
        "class NeuralNetwork(object):\n",
        "    def __init__(self):\n",
        "        inputLayerNeurons = 2\n",
        "        hiddenLayerNeurons1 = 10\n",
        "        hiddenLayerNeurons2 = 5  # additional hidden layer\n",
        "        outLayerNeurons = 1\n",
        "\n",
        "        self.learning_rate = 0.2\n",
        "        self.W_HI1 = np.random.randn(inputLayerNeurons, hiddenLayerNeurons1)\n",
        "        self.W_H1H2 = np.random.randn(hiddenLayerNeurons1, hiddenLayerNeurons2)  # weights between hidden layers\n",
        "        self.W_HO = np.random.randn(hiddenLayerNeurons2, outLayerNeurons)  # weights between the second hidden layer and the output layer\n",
        "\n",
        "    def sigmoid(self, x, der=False):\n",
        "        if der:\n",
        "            return x * (1 - x)\n",
        "        else:\n",
        "            return 1 / (1 + np.exp(-x))\n",
        "\n",
        "    def feedForward(self, X):\n",
        "        hidden_input1 = np.dot(X, self.W_HI1)\n",
        "        self.hidden_output1 = self.sigmoid(hidden_input1)\n",
        "\n",
        "        hidden_input2 = np.dot(self.hidden_output1, self.W_H1H2)\n",
        "        self.hidden_output2 = self.sigmoid(hidden_input2)\n",
        "\n",
        "        output_input = np.dot(self.hidden_output2, self.W_HO)\n",
        "        pred = self.sigmoid(output_input)\n",
        "        return pred\n",
        "\n",
        "    def backPropagation(self, X, Y, pred):\n",
        "        output_error = Y - pred\n",
        "        output_delta = self.learning_rate * output_error * self.sigmoid(pred, der=True)\n",
        "\n",
        "        hidden2_error = output_delta.dot(self.W_HO.T)\n",
        "        hidden2_delta = self.learning_rate * hidden2_error * self.sigmoid(self.hidden_output2, der=True)\n",
        "\n",
        "        hidden1_error = hidden2_delta.dot(self.W_H1H2.T)\n",
        "        hidden1_delta = self.learning_rate * hidden1_error * self.sigmoid(self.hidden_output1, der=True)\n",
        "\n",
        "        self.W_HI1 += X.T.dot(hidden1_delta)\n",
        "        self.W_H1H2 += self.hidden_output1.T.dot(hidden2_delta)\n",
        "        self.W_HO += self.hidden_output2.T.dot(output_delta)\n",
        "\n",
        "    def train(self, X, Y):\n",
        "        output = self.feedForward(X)\n",
        "        self.backPropagation(X, Y, output)\n",
        ""
      ],
      "metadata": {
        "id": "ZeT0aXaQ10pF"
      },
      "execution_count": 2,
      "outputs": []
    },
    {
      "cell_type": "code",
      "source": [
        "NN = NeuralNetwork()\n",
        "\n",
        "err = []\n",
        "for i in range(10000):\n",
        "    NN.train(X, Y)\n",
        "    err.append(np.mean(np.square(Y - NN.feedForward(X))))\n",
        "plt.plot(err)\n",
        "plt.show()\n",
        "\n"
      ],
      "metadata": {
        "colab": {
          "base_uri": "https://localhost:8080/",
          "height": 430
        },
        "id": "7ewjrbB_13NT",
        "outputId": "ce26d33d-f723-482f-f56b-b1570ad26544"
      },
      "execution_count": 3,
      "outputs": [
        {
          "output_type": "display_data",
          "data": {
            "text/plain": [
              "<Figure size 640x480 with 1 Axes>"
            ],
            "image/png": "[encoded data removed]"
          },
          "metadata": {}
        }
      ]
    },
    {
      "cell_type": "code",
      "source": [
        "\n",
        "print(NN.feedForward([0,0]))"
      ],
      "metadata": {
        "colab": {
          "base_uri": "https://localhost:8080/"
        },
        "id": "PhIofshC16rl",
        "outputId": "b0d77c4f-e52c-447f-8eee-c9eddbfbdcd1"
      },
      "execution_count": 4,
      "outputs": [
        {
          "output_type": "stream",
          "name": "stdout",
          "text": [
            "[0.04858198]\n"
          ]
        }
      ]
    }
  ]
}
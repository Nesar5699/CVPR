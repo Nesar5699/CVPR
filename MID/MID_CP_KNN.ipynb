{
  "nbformat": 4,
  "nbformat_minor": 0,
  "metadata": {
    "colab": {
      "provenance": []
    },
    "kernelspec": {
      "name": "python3",
      "display_name": "Python 3"
    },
    "language_info": {
      "name": "python"
    }
  },
  "cells": [
    {
      "cell_type": "code",
      "source": [
        "\n",
        "import numpy as np\n",
        "import cv2\n"
      ],
      "metadata": {
        "id": "mkTchePZ4gU4"
      },
      "execution_count": null,
      "outputs": []
    },
    {
      "cell_type": "code",
      "source": [
        "!git clone https://github.com/YoongiKim/CIFAR-10-images.git\n",
        "import os\n",
        "os.chdir('CIFAR-10-images/train')"
      ],
      "metadata": {
        "colab": {
          "base_uri": "https://localhost:8080/"
        },
        "id": "mEBGS88k4mID",
        "outputId": "66c5a04c-a30b-45a8-b92c-2723d6681fb1"
      },
      "execution_count": null,
      "outputs": [
        {
          "output_type": "stream",
          "name": "stdout",
          "text": [
            "Cloning into 'CIFAR-10-images'...\n",
            "remote: Enumerating objects: 60027, done.\u001b[K\n",
            "remote: Total 60027 (delta 0), reused 0 (delta 0), pack-reused 60027\u001b[K\n",
            "Receiving objects: 100% (60027/60027), 19.94 MiB | 33.70 MiB/s, done.\n",
            "Resolving deltas: 100% (59990/59990), done.\n",
            "Updating files: 100% (60001/60001), done.\n"
          ]
        }
      ]
    },
    {
      "cell_type": "code",
      "source": [
        "\n",
        "img_data = {}\n",
        "class_names = os.listdir()"
      ],
      "metadata": {
        "id": "snVrDVxi4n4b"
      },
      "execution_count": null,
      "outputs": []
    },
    {
      "cell_type": "code",
      "source": [
        "for class_name in class_names:\n",
        "  class_dir = os.path.join(os.getcwd(), class_name)\n",
        "  images = os.listdir(class_dir)\n",
        "  class_img = []\n",
        "\n",
        "  for img in images:\n",
        "    img_path = os.path.join(class_dir, img)\n",
        "    rgb_img = cv2.imread(img_path)\n",
        "    class_img.append(cv2.cvtColor(rgb_img, cv2.COLOR_BGR2GRAY))\n",
        "\n",
        "  img_data[class_name] = class_img"
      ],
      "metadata": {
        "id": "SOM_Luby4qjD"
      },
      "execution_count": null,
      "outputs": []
    },
    {
      "cell_type": "code",
      "source": [
        "for label, img in img_data.items():\n",
        "  print(f\"Label {label} : {np.shape(img)} \")"
      ],
      "metadata": {
        "colab": {
          "base_uri": "https://localhost:8080/"
        },
        "id": "PYEMIoeh4tzK",
        "outputId": "7316fa80-bb33-48b6-f9e4-e05a44f27a36"
      },
      "execution_count": null,
      "outputs": [
        {
          "output_type": "stream",
          "name": "stdout",
          "text": [
            "Label airplane : (5000, 32, 32) \n",
            "Label horse : (5000, 32, 32) \n",
            "Label cat : (5000, 32, 32) \n",
            "Label automobile : (5000, 32, 32) \n",
            "Label dog : (5000, 32, 32) \n",
            "Label bird : (5000, 32, 32) \n",
            "Label deer : (5000, 32, 32) \n",
            "Label truck : (5000, 32, 32) \n",
            "Label ship : (5000, 32, 32) \n",
            "Label frog : (5000, 32, 32) \n"
          ]
        }
      ]
    }
  ]
}